{
 "cells": [
  {
   "cell_type": "code",
   "execution_count": 1,
   "metadata": {},
   "outputs": [
    {
     "name": "stdout",
     "output_type": "stream",
     "text": [
      "Model extracted successfully.\n"
     ]
    }
   ],
   "source": [
    "import zipfile\n",
    "import os\n",
    "\n",
    "zip_path = \"D:\\Git\\Sucide_Mitigation_Chatbot\\model.zip\"\n",
    "extract_path = \"D:\\Git\\Sucide_Mitigation_Chatbot\"\n",
    "\n",
    "# Extract the zip file\n",
    "with zipfile.ZipFile(zip_path, 'r') as zip_ref:\n",
    "    zip_ref.extractall(extract_path)\n",
    "\n",
    "print(\"Model extracted successfully.\")"
   ]
  },
  {
   "cell_type": "code",
   "execution_count": 1,
   "metadata": {},
   "outputs": [],
   "source": [
    "from transformers import AutoModelForCausalLM, AutoTokenizer\n",
    "\n",
    "tokenizer = AutoTokenizer.from_pretrained(r\"D:\\Git\\Sucide_Mitigation_Chatbot\\model\")\n",
    "model = AutoModelForCausalLM.from_pretrained(r\"D:\\Git\\Sucide_Mitigation_Chatbot\\model\", trust_remote_code=True)"
   ]
  },
  {
   "cell_type": "code",
   "execution_count": 2,
   "metadata": {},
   "outputs": [
    {
     "name": "stderr",
     "output_type": "stream",
     "text": [
      "The attention mask is not set and cannot be inferred from input because pad token is same as eos token. As a consequence, you may observe unexpected behavior. Please pass your input's `attention_mask` to obtain reliable results.\n"
     ]
    },
    {
     "name": "stdout",
     "output_type": "stream",
     "text": [
      "Bot: I'm good, how are you?\n"
     ]
    }
   ],
   "source": [
    "def get_response(input_text):\n",
    "    input_ids = tokenizer.encode(input_text + tokenizer.eos_token, return_tensors=\"pt\")\n",
    "    output = model.generate(input_ids, max_length=100, pad_token_id=tokenizer.eos_token_id)\n",
    "    response = tokenizer.decode(output[:, input_ids.shape[-1]:][0], skip_special_tokens=True)\n",
    "    return response\n",
    "\n",
    "# Example usage\n",
    "user_input = \"Hello! How are you?\"\n",
    "bot_response = get_response(user_input)\n",
    "print(\"Bot:\", bot_response)"
   ]
  },
  {
   "cell_type": "code",
   "execution_count": 1,
   "metadata": {},
   "outputs": [],
   "source": [
    "import requests\n",
    "import os\n",
    "\n",
    "API_KEY = \"sk_b5e5696ecf66a0c37de4476573d0036b8250a9f135208f66\"\n",
    "VOICE_ID = \"pqHfZKP75CvOlQylNhV4\"\n",
    "TEXT = \"Hello! This is Brijesh.\"\n",
    "\n",
    "# Eleven Labs API URL\n",
    "URL = f\"https://api.elevenlabs.io/v1/text-to-speech/{VOICE_ID}\"\n",
    "\n",
    "# Headers for authentication\n",
    "headers = {\n",
    "    \"xi-api-key\": API_KEY,\n",
    "    \"Content-Type\": \"application/json\"\n",
    "}\n",
    "\n",
    "# Payload (request data)\n",
    "data = {\n",
    "    \"text\": TEXT,\n",
    "    \"model_id\": \"eleven_turbo_v2\",\n",
    "    \"voice_settings\": {\n",
    "        \"stability\": 0.5,\n",
    "        \"similarity_boost\": 0.8\n",
    "    }\n",
    "}\n",
    "\n",
    "# Send request\n",
    "response = requests.post(URL, json=data, headers=headers)\n",
    "\n",
    "# Save the generated voice as an OGG file\n",
    "if response.status_code == 200:\n",
    "    with open(\"output.ogg\", \"wb\") as file:\n",
    "        file.write(response.content)\n",
    "else:\n",
    "    print(f\"Error: {response.status_code}, {response.text}\")"
   ]
  },
  {
   "cell_type": "code",
   "execution_count": 2,
   "metadata": {},
   "outputs": [
    {
     "data": {
      "text/plain": [
       "'r3f-lipsync-tutorial/public/audios/output.ogg'"
      ]
     },
     "execution_count": 2,
     "metadata": {},
     "output_type": "execute_result"
    }
   ],
   "source": [
    "import shutil\n",
    "\n",
    "source_path = \"D:/Git/Sucide_Mitigation_Chatbot/output.ogg\"\n",
    "destination_path = \"r3f-lipsync-tutorial/public/audios/output.ogg\"\n",
    "\n",
    "shutil.move(source_path, destination_path)"
   ]
  }
 ],
 "metadata": {
  "kernelspec": {
   "display_name": "Python 3",
   "language": "python",
   "name": "python3"
  },
  "language_info": {
   "codemirror_mode": {
    "name": "ipython",
    "version": 3
   },
   "file_extension": ".py",
   "mimetype": "text/x-python",
   "name": "python",
   "nbconvert_exporter": "python",
   "pygments_lexer": "ipython3",
   "version": "3.10.11"
  }
 },
 "nbformat": 4,
 "nbformat_minor": 2
}
